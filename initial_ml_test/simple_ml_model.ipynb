{
 "cells": [
  {
   "cell_type": "markdown",
   "metadata": {},
   "source": [
    "## This Jupyter notebook is a simple ML model implementation to use for Data Version Control (DVC) testing"
   ]
  },
  {
   "cell_type": "code",
   "execution_count": 8,
   "metadata": {},
   "outputs": [],
   "source": [
    "import pickle\n",
    "from sklearn.model_selection import train_test_split\n",
    "from sklearn.linear_model import Ridge"
   ]
  },
  {
   "cell_type": "code",
   "execution_count": 9,
   "metadata": {},
   "outputs": [],
   "source": [
    "def train_model(X, y):\n",
    "    \"\"\"\n",
    "    Sample code to train a simple Ridge ML model using sklearn.\n",
    "    \n",
    "    Parameters\n",
    "    -----------\n",
    "        X (list):  input data\n",
    "        y (list): target data\n",
    "    \n",
    "    Returns\n",
    "    -----------\n",
    "        model (object) : the trained Ridge model\n",
    "    \"\"\"\n",
    "    # split the data into training and testing sets\n",
    "    X_train, X_test, y_train, y_test = train_test_split(X, y)\n",
    "    \n",
    "    # create and train a Ridge regression model on the training set\n",
    "    model = Ridge()\n",
    "    model.fit(X_train, y_train)\n",
    "    \n",
    "    # evaluate the model on the testing set\n",
    "    r2 = model.score(X_test, y_test)\n",
    "    print(f\"R-squared on test set: {r2}\")\n",
    "    \n",
    "    return model"
   ]
  },
  {
   "cell_type": "code",
   "execution_count": 13,
   "metadata": {},
   "outputs": [],
   "source": [
    "def save_model(model, filename=\"model.pkl\"):\n",
    "    \"\"\"\n",
    "    Save the model using pickle.\n",
    "    \n",
    "    Parameters\n",
    "    -----------\n",
    "        model (object) : trained model to save\n",
    "        filename (str) : name of the file to store the model. defaults to \"model\"\n",
    "    \n",
    "    Returns\n",
    "    -----------\n",
    "        (Does not return a value)\n",
    "    \"\"\"\n",
    "    with open(filename, 'wb') as file:\n",
    "        pickle.dump(model, file)\n",
    "\n",
    "    print(f\"Model saved as {filename}\")\n",
    "\n",
    "def load_model(filename=\"model\"):\n",
    "    \"\"\"\n",
    "    Loads the model using pickle.\n",
    "    \n",
    "    Parameters\n",
    "    -----------\n",
    "        filename (str) : name of the file to store the model. defaults to \"model\"\n",
    "    \n",
    "    Returns\n",
    "    -----------\n",
    "        model (object) : trained loaded model\n",
    "    \"\"\"\n",
    "    with open(filename, 'rb') as file:\n",
    "        model = pickle.load(file)\n",
    "\n",
    "    print(f\"Model loaded from {filename}\")\n",
    "    return model\n"
   ]
  }
 ],
 "metadata": {
  "kernelspec": {
   "display_name": "Python 3",
   "language": "python",
   "name": "python3"
  },
  "language_info": {
   "codemirror_mode": {
    "name": "ipython",
    "version": 3
   },
   "file_extension": ".py",
   "mimetype": "text/x-python",
   "name": "python",
   "nbconvert_exporter": "python",
   "pygments_lexer": "ipython3",
   "version": "3.11.4"
  },
  "orig_nbformat": 4
 },
 "nbformat": 4,
 "nbformat_minor": 2
}
